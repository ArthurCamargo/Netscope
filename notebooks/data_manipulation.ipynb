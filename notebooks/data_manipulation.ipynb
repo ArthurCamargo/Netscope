{
 "cells": [
  {
   "cell_type": "markdown",
   "id": "cfd0a460-78f8-4c9e-b9f8-7bc89dbbf776",
   "metadata": {},
   "source": [
    "# Data manipulation and analysis\n",
    "The main objective of this notebook is to change and process some data in order to make some interesting plots using d3 library. I think that this way it will be easier to understand the telescope and how the IP addresses behave between all the requests that it receives.\n",
    "\n",
    "\n",
    "## Dataset\n",
    "This notebook utilizeses a set of datasets that contains different informations about the network telescope including ip.dst data, ip.src data, frame.protocols, timeseries (UNIXTIME) and volume of packet in bytes. Each dataset contains a .csv file that tries to produce an interesting visualization of that are of the telescope. All the data was collected from a /19 telescope between 2023-12-14 and 2024-01-14.\n",
    "\n",
    "### IP dst\n",
    "That dataset contains the number of requests and volume in bytes that each of our IP addresses received.\n",
    "\n",
    "### Protocols IP dst\n",
    "That dataset contains the number of requests and volume received by each IP address segreggating between the type of protocols that were collected.\n",
    "\n",
    "### IP src\n",
    "That dataset contains the information about the attackers IP.srcs that sent some requests to our telescope. (How much different Ips each one attacked, the volume and the quantity of packets sent)\n",
    "\n",
    "### AS information\n",
    "That dataset shows the AS srcs that were utilized and some geographical location of those, as well as the number of requests and volume"
   ]
  },
  {
   "cell_type": "markdown",
   "id": "c01698a0-896b-4e7c-9ef0-f4ee1e3dc1d3",
   "metadata": {},
   "source": [
    "# Table of content\n",
    "1.[Requests per Ip destination](#Requests-per-ip-destination)"
   ]
  },
  {
   "cell_type": "markdown",
   "id": "66141580-f7f0-400d-83df-804d82c136f7",
   "metadata": {},
   "source": [
    "# Requets per IP destination\n",
    "Our csv in this step, only contains information about the ip.src in the format ('xxx.xxx.xxx.xxx') we need to convert that to an integer and to separate that in the way to get (---.---.xxx.yyy) types of data (don't need the first 2 octects as they are the same in the whole telescope."
   ]
  },
  {
   "cell_type": "code",
   "execution_count": 1,
   "id": "f5662263-765c-4ea8-bce3-a2726237e1a2",
   "metadata": {},
   "outputs": [
    {
     "name": "stdout",
     "output_type": "stream",
     "text": [
      "Requirement already satisfied: pandas in ./venv/lib64/python3.11/site-packages (2.2.2)\n",
      "Requirement already satisfied: numpy>=1.23.2 in ./venv/lib64/python3.11/site-packages (from pandas) (2.1.0)\n",
      "Requirement already satisfied: python-dateutil>=2.8.2 in ./venv/lib64/python3.11/site-packages (from pandas) (2.9.0.post0)\n",
      "Requirement already satisfied: pytz>=2020.1 in ./venv/lib64/python3.11/site-packages (from pandas) (2024.1)\n",
      "Requirement already satisfied: tzdata>=2022.7 in ./venv/lib64/python3.11/site-packages (from pandas) (2024.1)\n",
      "Requirement already satisfied: six>=1.5 in ./venv/lib64/python3.11/site-packages (from python-dateutil>=2.8.2->pandas) (1.16.0)\n"
     ]
    }
   ],
   "source": [
    "!pip3 install pandas "
   ]
  },
  {
   "cell_type": "code",
   "execution_count": 4,
   "id": "79fe85f8-335c-4c9b-86a8-34a7383ff1bd",
   "metadata": {},
   "outputs": [
    {
     "data": {
      "text/html": [
       "<div>\n",
       "<style scoped>\n",
       "    .dataframe tbody tr th:only-of-type {\n",
       "        vertical-align: middle;\n",
       "    }\n",
       "\n",
       "    .dataframe tbody tr th {\n",
       "        vertical-align: top;\n",
       "    }\n",
       "\n",
       "    .dataframe thead th {\n",
       "        text-align: right;\n",
       "    }\n",
       "</style>\n",
       "<table border=\"1\" class=\"dataframe\">\n",
       "  <thead>\n",
       "    <tr style=\"text-align: right;\">\n",
       "      <th></th>\n",
       "      <th>dst</th>\n",
       "      <th>packet_total</th>\n",
       "      <th>volume_total</th>\n",
       "    </tr>\n",
       "  </thead>\n",
       "  <tbody>\n",
       "    <tr>\n",
       "      <th>0</th>\n",
       "      <td>200.236.63.99</td>\n",
       "      <td>285255</td>\n",
       "      <td>18404202</td>\n",
       "    </tr>\n",
       "    <tr>\n",
       "      <th>1</th>\n",
       "      <td>200.236.63.98</td>\n",
       "      <td>275735</td>\n",
       "      <td>17846544</td>\n",
       "    </tr>\n",
       "    <tr>\n",
       "      <th>2</th>\n",
       "      <td>200.236.63.97</td>\n",
       "      <td>274255</td>\n",
       "      <td>17732546</td>\n",
       "    </tr>\n",
       "    <tr>\n",
       "      <th>3</th>\n",
       "      <td>200.236.63.96</td>\n",
       "      <td>276651</td>\n",
       "      <td>17902022</td>\n",
       "    </tr>\n",
       "    <tr>\n",
       "      <th>4</th>\n",
       "      <td>200.236.63.95</td>\n",
       "      <td>277501</td>\n",
       "      <td>17957421</td>\n",
       "    </tr>\n",
       "  </tbody>\n",
       "</table>\n",
       "</div>"
      ],
      "text/plain": [
       "             dst  packet_total  volume_total\n",
       "0  200.236.63.99        285255      18404202\n",
       "1  200.236.63.98        275735      17846544\n",
       "2  200.236.63.97        274255      17732546\n",
       "3  200.236.63.96        276651      17902022\n",
       "4  200.236.63.95        277501      17957421"
      ]
     },
     "execution_count": 4,
     "metadata": {},
     "output_type": "execute_result"
    }
   ],
   "source": [
    "import pandas as pd\n",
    "import ipaddress\n",
    "df = pd.read_csv('../data/hilbert/csvs/ip_dst.csv')\n",
    "df.head()"
   ]
  },
  {
   "cell_type": "markdown",
   "id": "d6966a3e-c606-44b5-b9df-c15b39378865",
   "metadata": {},
   "source": [
    "# Expanding the ip field\n",
    "First we use the ipaddress library to transform the ip.dst into a integer and extract the third and fourth octect"
   ]
  },
  {
   "cell_type": "code",
   "execution_count": 6,
   "id": "a27c5a17-d8bb-44dc-ae6f-608ac8372726",
   "metadata": {},
   "outputs": [
    {
     "data": {
      "text/html": [
       "<div>\n",
       "<style scoped>\n",
       "    .dataframe tbody tr th:only-of-type {\n",
       "        vertical-align: middle;\n",
       "    }\n",
       "\n",
       "    .dataframe tbody tr th {\n",
       "        vertical-align: top;\n",
       "    }\n",
       "\n",
       "    .dataframe thead th {\n",
       "        text-align: right;\n",
       "    }\n",
       "</style>\n",
       "<table border=\"1\" class=\"dataframe\">\n",
       "  <thead>\n",
       "    <tr style=\"text-align: right;\">\n",
       "      <th></th>\n",
       "      <th>dst</th>\n",
       "      <th>packet_total</th>\n",
       "      <th>volume_total</th>\n",
       "      <th>ip_int</th>\n",
       "      <th>third_octet</th>\n",
       "      <th>fourth_octet</th>\n",
       "    </tr>\n",
       "  </thead>\n",
       "  <tbody>\n",
       "    <tr>\n",
       "      <th>0</th>\n",
       "      <td>200.236.63.99</td>\n",
       "      <td>285255</td>\n",
       "      <td>18404202</td>\n",
       "      <td>3370925923</td>\n",
       "      <td>63</td>\n",
       "      <td>99</td>\n",
       "    </tr>\n",
       "    <tr>\n",
       "      <th>1</th>\n",
       "      <td>200.236.63.98</td>\n",
       "      <td>275735</td>\n",
       "      <td>17846544</td>\n",
       "      <td>3370925922</td>\n",
       "      <td>63</td>\n",
       "      <td>98</td>\n",
       "    </tr>\n",
       "    <tr>\n",
       "      <th>2</th>\n",
       "      <td>200.236.63.97</td>\n",
       "      <td>274255</td>\n",
       "      <td>17732546</td>\n",
       "      <td>3370925921</td>\n",
       "      <td>63</td>\n",
       "      <td>97</td>\n",
       "    </tr>\n",
       "    <tr>\n",
       "      <th>3</th>\n",
       "      <td>200.236.63.96</td>\n",
       "      <td>276651</td>\n",
       "      <td>17902022</td>\n",
       "      <td>3370925920</td>\n",
       "      <td>63</td>\n",
       "      <td>96</td>\n",
       "    </tr>\n",
       "    <tr>\n",
       "      <th>4</th>\n",
       "      <td>200.236.63.95</td>\n",
       "      <td>277501</td>\n",
       "      <td>17957421</td>\n",
       "      <td>3370925919</td>\n",
       "      <td>63</td>\n",
       "      <td>95</td>\n",
       "    </tr>\n",
       "  </tbody>\n",
       "</table>\n",
       "</div>"
      ],
      "text/plain": [
       "             dst  packet_total  volume_total      ip_int  third_octet  \\\n",
       "0  200.236.63.99        285255      18404202  3370925923           63   \n",
       "1  200.236.63.98        275735      17846544  3370925922           63   \n",
       "2  200.236.63.97        274255      17732546  3370925921           63   \n",
       "3  200.236.63.96        276651      17902022  3370925920           63   \n",
       "4  200.236.63.95        277501      17957421  3370925919           63   \n",
       "\n",
       "   fourth_octet  \n",
       "0            99  \n",
       "1            98  \n",
       "2            97  \n",
       "3            96  \n",
       "4            95  "
      ]
     },
     "execution_count": 6,
     "metadata": {},
     "output_type": "execute_result"
    }
   ],
   "source": [
    "df['ip_int'] = df['dst'].apply(lambda x: int(ipaddress.IPv4Address(x)))\n",
    "df['third_octet'] = df['dst'].apply(lambda x: int(x.split('.')[2]))\n",
    "df['fourth_octet'] = df['dst'].apply(lambda x: int(x.split('.')[3]))\n",
    "df.head()"
   ]
  },
  {
   "cell_type": "code",
   "execution_count": 7,
   "id": "684d1cff-0903-4f78-a0b4-6179b603cc16",
   "metadata": {},
   "outputs": [],
   "source": [
    "# Saving into a csv\n",
    "df.to_csv('../data/hilbert/csvs/ip_dst_processed.csv')"
   ]
  },
  {
   "cell_type": "code",
   "execution_count": null,
   "id": "27856834-266a-4341-ac50-71badf7920e7",
   "metadata": {},
   "outputs": [],
   "source": []
  }
 ],
 "metadata": {
  "kernelspec": {
   "display_name": "venv",
   "language": "python",
   "name": "venv"
  },
  "language_info": {
   "codemirror_mode": {
    "name": "ipython",
    "version": 3
   },
   "file_extension": ".py",
   "mimetype": "text/x-python",
   "name": "python",
   "nbconvert_exporter": "python",
   "pygments_lexer": "ipython3",
   "version": "3.11.9"
  }
 },
 "nbformat": 4,
 "nbformat_minor": 5
}
